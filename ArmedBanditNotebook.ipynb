{
 "cells": [
  {
   "cell_type": "markdown",
   "metadata": {},
   "source": [
    "To address the k-armed bandit problem https://en.wikipedia.org/wiki/Multi-armed_bandit"
   ]
  },
  {
   "cell_type": "code",
   "execution_count": 289,
   "metadata": {
    "collapsed": true
   },
   "outputs": [],
   "source": [
    "import numpy as np \n",
    "import pandas as pd \n",
    "import matplotlib.pyplot as plt\n",
    "import scipy as sp\n",
    "from scipy.stats import beta\n",
    "from scipy.integrate import trapz\n",
    "%matplotlib inline  "
   ]
  },
  {
   "cell_type": "code",
   "execution_count": 305,
   "metadata": {
    "collapsed": false
   },
   "outputs": [],
   "source": [
    "class Arm():\n",
    "    def __init__(self, prob):\n",
    "        self.prob = prob\n",
    "        \n",
    "    def pull(self):\n",
    "        return np.random.choice([0,1], 1, p = [1 - self.prob, self.prob])[0]\n",
    "\n",
    "class Bandit():\n",
    "    def __init__(self, probs):\n",
    "        self.arms = {k:Arm(v) for k,v in enumerate(probs)}\n",
    "    \n",
    "    def pull_arm(self, arm_id):\n",
    "        return self.arms[arm_id].pull()"
   ]
  },
  {
   "cell_type": "code",
   "execution_count": 306,
   "metadata": {
    "collapsed": true
   },
   "outputs": [],
   "source": [
    "probs = [0.1, 0.05]\n",
    "n = 1000\n",
    "bandit = Bandit(probs)\n",
    "\n",
    "data = [] \n",
    "for _ in range(n):\n",
    "    arm = np.random.choice(list(range(len(probs))))\n",
    "    data.append([arm, bandit.pull_arm(arm), _])"
   ]
  },
  {
   "cell_type": "code",
   "execution_count": 307,
   "metadata": {
    "collapsed": true
   },
   "outputs": [],
   "source": [
    "df = pd.DataFrame(data, columns=['arm', 'score', 'time'])"
   ]
  },
  {
   "cell_type": "code",
   "execution_count": 308,
   "metadata": {
    "collapsed": true
   },
   "outputs": [],
   "source": [
    "agg = df.groupby(['arm', 'time']).agg([len, np.sum])['score'].reset_index()"
   ]
  },
  {
   "cell_type": "code",
   "execution_count": 309,
   "metadata": {
    "collapsed": false
   },
   "outputs": [
    {
     "name": "stdout",
     "output_type": "stream",
     "text": [
      "arm\n",
      "0    492.0\n",
      "1    508.0\n",
      "dtype: float64\n"
     ]
    }
   ],
   "source": [
    "total_numbers=agg.pivot('time', 'arm')['len'].fillna(0).cumsum()\n",
    "arms_trials=total_numbers.max()\n",
    "print(arms_trials)"
   ]
  },
  {
   "cell_type": "code",
   "execution_count": 204,
   "metadata": {
    "collapsed": false
   },
   "outputs": [
    {
     "name": "stdout",
     "output_type": "stream",
     "text": [
      "arm\n",
      "0    49.0\n",
      "1    18.0\n",
      "dtype: float64\n"
     ]
    }
   ],
   "source": [
    "total_success=agg.pivot('time', 'arm')['sum'].fillna(0).cumsum() #the 1s\n",
    "\n",
    "arms_success=total_success.max()\n",
    "print(arms_success)\n",
    "#beta_c=len(agg[agg.arm==0])-alpha_c"
   ]
  },
  {
   "cell_type": "code",
   "execution_count": 205,
   "metadata": {
    "collapsed": false
   },
   "outputs": [
    {
     "name": "stdout",
     "output_type": "stream",
     "text": [
      "arm\n",
      "0    434.0\n",
      "1    499.0\n",
      "dtype: float64\n"
     ]
    }
   ],
   "source": [
    "arms_failures=arms_trials - arms_success\n",
    "print(arms_failures)"
   ]
  },
  {
   "cell_type": "code",
   "execution_count": 207,
   "metadata": {
    "collapsed": false
   },
   "outputs": [
    {
     "data": {
      "text/plain": [
       "<matplotlib.legend.Legend at 0x11e937ef0>"
      ]
     },
     "execution_count": 207,
     "metadata": {},
     "output_type": "execute_result"
    },
    {
     "data": {
      "image/png": "[encoded data removed]",
      "text/plain": [
       "<matplotlib.figure.Figure at 0x11dd6f518>"
      ]
     },
     "metadata": {},
     "output_type": "display_data"
    }
   ],
   "source": [
    "x = np.linspace(0, 0.3, 100)\n",
    "#arm1\n",
    "plt.plot(x, beta(arms_success[0],arms_failures[0]).pdf(x), lw=2,label='arm 1')\n",
    "#arm2\n",
    "plt.plot(x, beta(arms_success[1],arms_failures[1]).pdf(x), lw=2, label='arm 2')\n",
    "plt.legend()"
   ]
  },
  {
   "cell_type": "code",
   "execution_count": 310,
   "metadata": {
    "collapsed": false
   },
   "outputs": [
    {
     "data": {
      "text/plain": [
       "<matplotlib.axes._subplots.AxesSubplot at 0x11eeb3cf8>"
      ]
     },
     "execution_count": 310,
     "metadata": {},
     "output_type": "execute_result"
    },
    {
     "data": {
      "image/png": "[encoded data removed]",
      "text/plain": [
       "<matplotlib.figure.Figure at 0x11ee58048>"
      ]
     },
     "metadata": {},
     "output_type": "display_data"
    }
   ],
   "source": [
    "pltr = agg.pivot('time', 'arm')['sum'].fillna(0).cumsum()\n",
    "pltr.plot(figsize=(10, 2), title = \"Accumulated winning per arm\")"
   ]
  },
  {
   "cell_type": "code",
   "execution_count": 311,
   "metadata": {
    "collapsed": false
   },
   "outputs": [
    {
     "data": {
      "image/png": "[encoded data removed]",
      "text/plain": [
       "<matplotlib.figure.Figure at 0x11dd54fd0>"
      ]
     },
     "metadata": {},
     "output_type": "display_data"
    }
   ],
   "source": [
    "pltr = (pltr / agg.pivot('time', 'arm')['len'].fillna(0).cumsum())\n",
    "_ = pltr.plot(figsize=(10, 2), title=\"Win probability per arm over time.\")"
   ]
  },
  {
   "cell_type": "code",
   "execution_count": 312,
   "metadata": {
    "collapsed": false
   },
   "outputs": [
    {
     "name": "stdout",
     "output_type": "stream",
     "text": [
      "total profit is 50.0\n",
      "total regret is 50.0\n"
     ]
    }
   ],
   "source": [
    "total_profit = agg.pivot('time', 'arm')['sum'].cumsum().sum(axis = 1).max()\n",
    "max_expected_profit = np.max(probs)*n\n",
    "print(\"total profit is {}\".format(total_profit))\n",
    "print(\"total regret is {}\".format(max_expected_profit - total_profit))"
   ]
  },
  {
   "cell_type": "code",
   "execution_count": 50,
   "metadata": {
    "collapsed": true
   },
   "outputs": [],
   "source": [
    "#original solution"
   ]
  },
  {
   "cell_type": "code",
   "execution_count": 313,
   "metadata": {
    "collapsed": true
   },
   "outputs": [],
   "source": [
    "def pick_arm(counter, epsilon=0.05):\n",
    "    if np.random.uniform() < epsilon:\n",
    "        probs = [1.0 for _ in counter.keys()]\n",
    "    else:\n",
    "        probs = [(counter[_][0] + 0.001)/counter[_][1] for _ in counter.keys()]\n",
    "    return np.random.choice(list(range(len(counter.keys()))), p = probs/np.sum(probs))"
   ]
  },
  {
   "cell_type": "code",
   "execution_count": 314,
   "metadata": {
    "collapsed": false
   },
   "outputs": [],
   "source": [
    "probs = [0.1, 0.05]\n",
    "n = 1000\n",
    "bandit = Bandit(probs)\n",
    "counter = {arm:(1,1) for arm in range(len(probs))}\n",
    "\n",
    "data = []\n",
    "for _ in range(n):\n",
    "    arm = pick_arm(counter, 1/(_+1))\n",
    "    outcome = bandit.pull_arm(arm)\n",
    "  \n",
    "    counter[arm] = counter[arm][0] + outcome, counter[arm][1] + 1\n",
    "    data.append([arm, bandit.pull_arm(arm), _])\n"
   ]
  },
  {
   "cell_type": "code",
   "execution_count": 316,
   "metadata": {
    "collapsed": false
   },
   "outputs": [
    {
     "data": {
      "text/plain": [
       "{0: (53, 698), 1: (14, 304)}"
      ]
     },
     "execution_count": 316,
     "metadata": {},
     "output_type": "execute_result"
    }
   ],
   "source": [
    "counter"
   ]
  },
  {
   "cell_type": "code",
   "execution_count": 315,
   "metadata": {
    "collapsed": true
   },
   "outputs": [],
   "source": [
    "df = pd.DataFrame(data, columns=['arm', 'score', 'time'])\n",
    "agg = df.groupby(['arm', 'time']).agg([len, np.sum])['score'].reset_index()"
   ]
  },
  {
   "cell_type": "code",
   "execution_count": 47,
   "metadata": {
    "collapsed": false
   },
   "outputs": [
    {
     "data": {
      "image/png": "[encoded data removed]",
      "text/plain": [
       "<matplotlib.figure.Figure at 0x11b204278>"
      ]
     },
     "metadata": {},
     "output_type": "display_data"
    }
   ],
   "source": [
    "pltr = agg.pivot('time', 'arm')['sum'].fillna(0).cumsum()\n",
    "_ = pltr.plot(figsize=(10, 2), title = \"Accumulated winning per arm\")"
   ]
  },
  {
   "cell_type": "code",
   "execution_count": 48,
   "metadata": {
    "collapsed": false
   },
   "outputs": [
    {
     "data": {
      "image/png": "[encoded data removed]",
      "text/plain": [
       "<matplotlib.figure.Figure at 0x11b321390>"
      ]
     },
     "metadata": {},
     "output_type": "display_data"
    }
   ],
   "source": [
    "pltr = (pltr / agg.pivot('time', 'arm')['len'].fillna(0).cumsum())\n",
    "_ = pltr.plot(figsize=(10, 2), title=\"Win probability per arm over time.\")"
   ]
  },
  {
   "cell_type": "code",
   "execution_count": 317,
   "metadata": {
    "collapsed": false
   },
   "outputs": [
    {
     "name": "stdout",
     "output_type": "stream",
     "text": [
      "total profit is 68.0\n",
      "total regret is 32.0\n"
     ]
    }
   ],
   "source": [
    "total_profit = agg.pivot('time', 'arm')['sum'].cumsum().sum(axis = 1).max()\n",
    "max_expected_profit = np.max(probs)*n\n",
    "print(\"total profit is {}\".format(total_profit))\n",
    "print(\"total regret is {}\".format(max_expected_profit - total_profit))"
   ]
  },
  {
   "cell_type": "markdown",
   "metadata": {},
   "source": [
    "***Alternate solution (simple beta probabilities) - using belief ***"
   ]
  },
  {
   "cell_type": "code",
   "execution_count": 493,
   "metadata": {
    "collapsed": true
   },
   "outputs": [],
   "source": [
    "probs = [0.1, 0.05,0.04]\n",
    "n = 1000\n",
    "bandit = Bandit(probs)\n",
    "\n",
    "data = [] \n",
    "for _ in range(n):\n",
    "    arm = np.random.choice(list(range(len(probs))))\n",
    "    data.append([arm, bandit.pull_arm(arm), _])"
   ]
  },
  {
   "cell_type": "code",
   "execution_count": 494,
   "metadata": {
    "collapsed": true
   },
   "outputs": [],
   "source": [
    "df = pd.DataFrame(data, columns=['arm', 'score', 'time'])"
   ]
  },
  {
   "cell_type": "code",
   "execution_count": 495,
   "metadata": {
    "collapsed": false
   },
   "outputs": [
    {
     "data": {
      "text/html": [
       "<div>\n",
       "<table border=\"1\" class=\"dataframe\">\n",
       "  <thead>\n",
       "    <tr style=\"text-align: right;\">\n",
       "      <th></th>\n",
       "      <th>arm</th>\n",
       "      <th>score</th>\n",
       "      <th>time</th>\n",
       "    </tr>\n",
       "  </thead>\n",
       "  <tbody>\n",
       "    <tr>\n",
       "      <th>0</th>\n",
       "      <td>0</td>\n",
       "      <td>0</td>\n",
       "      <td>0</td>\n",
       "    </tr>\n",
       "    <tr>\n",
       "      <th>1</th>\n",
       "      <td>1</td>\n",
       "      <td>0</td>\n",
       "      <td>1</td>\n",
       "    </tr>\n",
       "    <tr>\n",
       "      <th>2</th>\n",
       "      <td>0</td>\n",
       "      <td>0</td>\n",
       "      <td>2</td>\n",
       "    </tr>\n",
       "    <tr>\n",
       "      <th>3</th>\n",
       "      <td>1</td>\n",
       "      <td>1</td>\n",
       "      <td>3</td>\n",
       "    </tr>\n",
       "    <tr>\n",
       "      <th>4</th>\n",
       "      <td>0</td>\n",
       "      <td>0</td>\n",
       "      <td>4</td>\n",
       "    </tr>\n",
       "  </tbody>\n",
       "</table>\n",
       "</div>"
      ],
      "text/plain": [
       "   arm  score  time\n",
       "0    0      0     0\n",
       "1    1      0     1\n",
       "2    0      0     2\n",
       "3    1      1     3\n",
       "4    0      0     4"
      ]
     },
     "execution_count": 495,
     "metadata": {},
     "output_type": "execute_result"
    }
   ],
   "source": [
    "df.head()"
   ]
  },
  {
   "cell_type": "code",
   "execution_count": 496,
   "metadata": {
    "collapsed": true
   },
   "outputs": [],
   "source": [
    "agg = df.groupby(['arm', 'time']).agg([len, np.sum])['score'].reset_index()"
   ]
  },
  {
   "cell_type": "code",
   "execution_count": 497,
   "metadata": {
    "collapsed": false
   },
   "outputs": [
    {
     "data": {
      "text/html": [
       "<div>\n",
       "<table border=\"1\" class=\"dataframe\">\n",
       "  <thead>\n",
       "    <tr style=\"text-align: right;\">\n",
       "      <th></th>\n",
       "      <th>arm</th>\n",
       "      <th>time</th>\n",
       "      <th>len</th>\n",
       "      <th>sum</th>\n",
       "    </tr>\n",
       "  </thead>\n",
       "  <tbody>\n",
       "    <tr>\n",
       "      <th>0</th>\n",
       "      <td>0</td>\n",
       "      <td>0</td>\n",
       "      <td>1</td>\n",
       "      <td>0</td>\n",
       "    </tr>\n",
       "    <tr>\n",
       "      <th>1</th>\n",
       "      <td>0</td>\n",
       "      <td>2</td>\n",
       "      <td>1</td>\n",
       "      <td>0</td>\n",
       "    </tr>\n",
       "    <tr>\n",
       "      <th>2</th>\n",
       "      <td>0</td>\n",
       "      <td>4</td>\n",
       "      <td>1</td>\n",
       "      <td>0</td>\n",
       "    </tr>\n",
       "    <tr>\n",
       "      <th>3</th>\n",
       "      <td>0</td>\n",
       "      <td>5</td>\n",
       "      <td>1</td>\n",
       "      <td>0</td>\n",
       "    </tr>\n",
       "    <tr>\n",
       "      <th>4</th>\n",
       "      <td>0</td>\n",
       "      <td>8</td>\n",
       "      <td>1</td>\n",
       "      <td>0</td>\n",
       "    </tr>\n",
       "  </tbody>\n",
       "</table>\n",
       "</div>"
      ],
      "text/plain": [
       "   arm  time  len  sum\n",
       "0    0     0    1    0\n",
       "1    0     2    1    0\n",
       "2    0     4    1    0\n",
       "3    0     5    1    0\n",
       "4    0     8    1    0"
      ]
     },
     "execution_count": 497,
     "metadata": {},
     "output_type": "execute_result"
    }
   ],
   "source": [
    "agg.head()"
   ]
  },
  {
   "cell_type": "code",
   "execution_count": 498,
   "metadata": {
    "collapsed": false
   },
   "outputs": [
    {
     "name": "stdout",
     "output_type": "stream",
     "text": [
      "arm\n",
      "0    351.0\n",
      "1    313.0\n",
      "2    336.0\n",
      "dtype: float64\n"
     ]
    }
   ],
   "source": [
    "total_numbers=agg.pivot('time', 'arm')['len'].fillna(0).cumsum()\n",
    "arms_trials=total_numbers.max()\n",
    "print(arms_trials)"
   ]
  },
  {
   "cell_type": "code",
   "execution_count": 499,
   "metadata": {
    "collapsed": false
   },
   "outputs": [
    {
     "name": "stdout",
     "output_type": "stream",
     "text": [
      "arm\n",
      "0    32.0\n",
      "1    18.0\n",
      "2    11.0\n",
      "dtype: float64\n"
     ]
    }
   ],
   "source": [
    "total_success=agg.pivot('time', 'arm')['sum'].fillna(0).cumsum() #the 1s\n",
    "\n",
    "arms_success=total_success.max()\n",
    "print(arms_success)\n",
    "#beta_c=len(agg[agg.arm==0])-alpha_c"
   ]
  },
  {
   "cell_type": "code",
   "execution_count": 500,
   "metadata": {
    "collapsed": false,
    "scrolled": true
   },
   "outputs": [
    {
     "name": "stdout",
     "output_type": "stream",
     "text": [
      "arm\n",
      "0    319.0\n",
      "1    295.0\n",
      "2    325.0\n",
      "dtype: float64\n"
     ]
    }
   ],
   "source": [
    "arms_failures=arms_trials - arms_success\n",
    "print(arms_failures)"
   ]
  },
  {
   "cell_type": "code",
   "execution_count": 504,
   "metadata": {
    "collapsed": false
   },
   "outputs": [
    {
     "data": {
      "text/plain": [
       "<matplotlib.legend.Legend at 0x121c0cb70>"
      ]
     },
     "execution_count": 504,
     "metadata": {},
     "output_type": "execute_result"
    },
    {
     "data": {
      "image/png": "[encoded data removed]",
      "text/plain": [
       "<matplotlib.figure.Figure at 0x121bbe9b0>"
      ]
     },
     "metadata": {},
     "output_type": "display_data"
    }
   ],
   "source": [
    "x = np.linspace(0, 0.2, 1000)\n",
    "#arm1\n",
    "plt.plot(x, beta(arms_success[0],arms_failures[0]).pdf(x), lw=2,label='arm 0')\n",
    "#arm2\n",
    "plt.plot(x, beta(arms_success[1],arms_failures[1]).pdf(x), lw=2, label='arm 1')\n",
    "plt.plot(x, beta(arms_success[2],arms_failures[2]).pdf(x), lw=2, label='arm 2')\n",
    "plt.legend()"
   ]
  },
  {
   "cell_type": "code",
   "execution_count": 327,
   "metadata": {
    "collapsed": false
   },
   "outputs": [
    {
     "name": "stdout",
     "output_type": "stream",
     "text": [
      "0.0873015873016\n",
      "0.0483870967742\n"
     ]
    }
   ],
   "source": [
    "arm_1_beta=beta(arms_success[0],arms_failures[0]).pdf(x)\n",
    "arm_2_beta=beta(arms_success[1],arms_failures[1]).pdf(x)\n",
    "arm_1_mean = arms_success[0]/(arms_success[0]+arms_failures[0])\n",
    "arm_2_mean = arms_success[1]/(arms_success[1]+arms_failures[1])\n",
    "print(arm_1_mean)\n",
    "print(arm_2_mean)"
   ]
  },
  {
   "cell_type": "code",
   "execution_count": 328,
   "metadata": {
    "collapsed": false
   },
   "outputs": [
    {
     "name": "stdout",
     "output_type": "stream",
     "text": [
      "Positive delta prob after 22\n",
      "0.918368250355\n"
     ]
    }
   ],
   "source": [
    "if(arm_1_mean>arm_2_mean):\n",
    "    prob_delta=arm_1_beta-arm_2_beta\n",
    "else:\n",
    "    prob_delta=arm_2_beta-arm_1_beta\n",
    "    \n",
    "np_p_d = np.array(prob_delta) \n",
    "\n",
    "#print(np_p_d)\n",
    "start_point_calc=np.where(np_p_d > 0)[0][0]\n",
    "\n",
    "#start_point_calc=start_point_calc[0].copy()\n",
    "print('Positive delta prob after '+str(start_point_calc))\n",
    "\n",
    "selected_x=x[start_point_calc:]\n",
    "selected_np_p_d = np_p_d[start_point_calc:]\n",
    "#print(selected_x)\n",
    "#print(selected_np_p_d)\n",
    "\n",
    "#integrate to find out the probability of higher belief\n",
    "integral = trapz(selected_np_p_d,selected_x)\n",
    "print(integral)\n",
    "#np_p_d_sum = np.sum(start_point[start_point_calc:])\n",
    "\n",
    "#print('Prob: '+str(np_p_d_sum))"
   ]
  },
  {
   "cell_type": "code",
   "execution_count": 508,
   "metadata": {
    "collapsed": false
   },
   "outputs": [
    {
     "data": {
      "text/plain": [
       "{0: (32.0, 351.0), 1: (18.0, 313.0), 2: (11.0, 336.0)}"
      ]
     },
     "execution_count": 508,
     "metadata": {},
     "output_type": "execute_result"
    }
   ],
   "source": [
    "counter={0:(arms_success[0],arms_success[0]+arms_failures[0]),1:(arms_success[1],arms_success[1]+arms_failures[1]),\n",
    "        2:(arms_success[2],arms_success[2]+arms_failures[2])}\n",
    "counter"
   ]
  },
  {
   "cell_type": "code",
   "execution_count": 526,
   "metadata": {
    "collapsed": false
   },
   "outputs": [
    {
     "data": {
      "text/plain": [
       "{'arm_max': 2, 'integral': 0.99999999999954003}"
      ]
     },
     "execution_count": 526,
     "metadata": {},
     "output_type": "execute_result"
    }
   ],
   "source": [
    "arm_betas=[]\n",
    "arm_means=[]\n",
    "x=np.linspace(0, 1, 1000)\n",
    "counter=test_counter\n",
    "for key in counter.keys():\n",
    "    current_arm = counter[key]\n",
    "\n",
    "    arm_betas= arm_betas + [beta(current_arm[0],current_arm[1]-current_arm[0]).pdf(x)]\n",
    "\n",
    "    arm_means.append(current_arm[0]/current_arm[1])\n",
    "\n",
    "arm_max_index = np.argmax(arm_means)\n",
    "arm_min_index = np.argmin(arm_means)\n",
    "arm_max = list(counter.keys())[arm_max_index]\n",
    "\n",
    "mle_delta = arm_betas[arm_max_index]-arm_betas[arm_min_index]\n",
    "\n",
    "inflection_plus = np.where(mle_delta>0)\n",
    "inflection_minus = np.where(mle_delta<0)\n",
    "\n",
    "if((len(inflection_minus)>0)&(sum(inflection_plus[0]> max(inflection_minus[0]))>0)):\n",
    "    \n",
    "    start_point_calc=inflection_plus[0][inflection_plus[0]> max(inflection_minus[0])][0]\n",
    "else:\n",
    "    start_point_calc=inflection_plus[0][0]\n",
    "\n",
    "selected_x=x[start_point_calc:]\n",
    "selected_mle_delta = mle_delta[start_point_calc:]\n",
    "\n",
    "integral = trapz(selected_mle_delta,selected_x)\n",
    "{'arm_max': arm_max, 'integral': integral}"
   ]
  },
  {
   "cell_type": "code",
   "execution_count": 532,
   "metadata": {
    "collapsed": false
   },
   "outputs": [],
   "source": [
    "def convergence_decision_max_vs_min(counter):\n",
    "    arm_betas=[]\n",
    "    arm_means=[]\n",
    "    x=np.linspace(0, 1, 1000)\n",
    "\n",
    "    for key in counter.keys():\n",
    "        current_arm = counter[key]\n",
    "\n",
    "        arm_betas= arm_betas + [beta(current_arm[0],current_arm[1]-current_arm[0]).pdf(x)]\n",
    "\n",
    "        arm_means.append(current_arm[0]/current_arm[1])\n",
    "\n",
    "    arm_max_index = np.argmax(arm_means)\n",
    "    arm_min_index = np.argmin(arm_means)\n",
    "    arm_max = list(counter.keys())[arm_max_index]\n",
    "    arm_min = list(counter.keys())[arm_min_index]\n",
    "\n",
    "    mle_delta = arm_betas[arm_max_index]-arm_betas[arm_min_index]\n",
    "\n",
    "    inflection_plus = np.where(mle_delta>0)\n",
    "    inflection_minus = np.where(mle_delta<0)\n",
    "   \n",
    "    if((len(inflection_minus)>0)&(sum(inflection_plus[0]> max(inflection_minus[0]))>0)):\n",
    "        \n",
    "        start_point_calc=inflection_plus[0][inflection_plus[0]> max(inflection_minus[0])][0]\n",
    "    else:\n",
    "        start_point_calc=inflection_plus[0][0]\n",
    "    \n",
    "    selected_x=x[start_point_calc:]\n",
    "    selected_mle_delta = mle_delta[start_point_calc:]\n",
    "    \n",
    "    integral = trapz(selected_mle_delta,selected_x)\n",
    "    return {'arm_max': arm_max, 'integral_max': integral,'arm_min':arm_min}\n"
   ]
  },
  {
   "cell_type": "code",
   "execution_count": 535,
   "metadata": {
    "collapsed": false
   },
   "outputs": [
    {
     "data": {
      "text/plain": [
       "{'arm_max': 2, 'arm_min': 1, 'integral_max': 0.98593333783716541}"
      ]
     },
     "execution_count": 535,
     "metadata": {},
     "output_type": "execute_result"
    }
   ],
   "source": [
    "\n",
    "\n",
    "test_counter={0:(700,2900),1:(180,900),2:(490,1900)}\n",
    "convergence_decision_max_vs_min(test_counter)"
   ]
  },
  {
   "cell_type": "code",
   "execution_count": 537,
   "metadata": {
    "collapsed": false
   },
   "outputs": [
    {
     "data": {
      "text/plain": [
       "<matplotlib.legend.Legend at 0x12225fef0>"
      ]
     },
     "execution_count": 537,
     "metadata": {},
     "output_type": "execute_result"
    },
    {
     "data": {
      "image/png": "[encoded data removed]",
      "text/plain": [
       "<matplotlib.figure.Figure at 0x1220ed6d8>"
      ]
     },
     "metadata": {},
     "output_type": "display_data"
    }
   ],
   "source": [
    "x = np.linspace(0, 0.3, 100)\n",
    "#arm1\n",
    "plt.plot(x, beta(700,2900).pdf(x), lw=2,label='arm 0')\n",
    "#arm2\n",
    "plt.plot(x, beta(180,900).pdf(x), lw=2, label='arm 1')\n",
    "plt.plot(x, beta(490,1900).pdf(x), lw=2, label='arm 2')\n",
    "plt.legend()"
   ]
  },
  {
   "cell_type": "code",
   "execution_count": 44,
   "metadata": {
    "collapsed": true
   },
   "outputs": [],
   "source": [
    "def pick_arm2(counter, epsilon=0.05):\n",
    "    #generate delta prob\n",
    "    #threshold\n",
    "    #if threshold reached\n",
    "    #use the arm with highest prob\n",
    "    \n",
    "    if np.random.uniform() < epsilon:\n",
    "        probs = [1.0 for _ in counter.keys()]\n",
    "    else:\n",
    "        probs = [(counter[_][0] + 0.001)/counter[_][1] for _ in counter.keys()]\n",
    "    return np.random.choice(list(range(len(counter.keys()))), p = probs/np.sum(probs))"
   ]
  },
  {
   "cell_type": "code",
   "execution_count": null,
   "metadata": {
    "collapsed": true
   },
   "outputs": [],
   "source": [
    "probs = [0.1, 0.05]\n",
    "n = 1000\n",
    "bandit = Bandit(probs)\n",
    "counter = {arm:(1,1) for arm in range(len(probs))}\n",
    "\n",
    "data = []\n",
    "for _ in range(n):\n",
    "    arm = pick_arm2(counter, 1/(_+1))\n",
    "    outcome = bandit.pull_arm(arm)\n",
    "  \n",
    "    counter[arm] = counter[arm][0] + outcome, counter[arm][1] + 1\n",
    "    data.append([arm, bandit.pull_arm(arm), _])"
   ]
  }
 ],
 "metadata": {
  "kernelspec": {
   "display_name": "Python 3",
   "language": "python",
   "name": "python3"
  },
  "language_info": {
   "codemirror_mode": {
    "name": "ipython",
    "version": 3
   },
   "file_extension": ".py",
   "mimetype": "text/x-python",
   "name": "python",
   "nbconvert_exporter": "python",
   "pygments_lexer": "ipython3",
   "version": "3.5.2"
  }
 },
 "nbformat": 4,
 "nbformat_minor": 0
}
