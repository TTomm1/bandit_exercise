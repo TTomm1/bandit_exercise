{
 "cells": [
  {
   "cell_type": "markdown",
   "metadata": {},
   "source": [
    "To address the k-armed bandit problem https://en.wikipedia.org/wiki/Multi-armed_bandit"
   ]
  },
  {
   "cell_type": "code",
   "execution_count": 538,
   "metadata": {
    "collapsed": true
   },
   "outputs": [],
   "source": [
    "import numpy as np \n",
    "import pandas as pd \n",
    "import matplotlib.pyplot as plt\n",
    "import scipy as sp\n",
    "from scipy.stats import beta\n",
    "from scipy.integrate import trapz\n",
    "%matplotlib inline  "
   ]
  },
  {
   "cell_type": "code",
   "execution_count": 539,
   "metadata": {
    "collapsed": false
   },
   "outputs": [],
   "source": [
    "class Arm():\n",
    "    def __init__(self, prob):\n",
    "        self.prob = prob\n",
    "        \n",
    "    def pull(self):\n",
    "        return np.random.choice([0,1], 1, p = [1 - self.prob, self.prob])[0]\n",
    "\n",
    "class Bandit():\n",
    "    def __init__(self, probs):\n",
    "        self.arms = {k:Arm(v) for k,v in enumerate(probs)}\n",
    "    \n",
    "    def pull_arm(self, arm_id):\n",
    "        return self.arms[arm_id].pull()"
   ]
  },
  {
   "cell_type": "code",
   "execution_count": 540,
   "metadata": {
    "collapsed": true
   },
   "outputs": [],
   "source": [
    "probs = [0.1, 0.05]\n",
    "n = 1000\n",
    "bandit = Bandit(probs)\n",
    "\n",
    "data = [] \n",
    "for _ in range(n):\n",
    "    arm = np.random.choice(list(range(len(probs))))\n",
    "    data.append([arm, bandit.pull_arm(arm), _])"
   ]
  },
  {
   "cell_type": "code",
   "execution_count": 541,
   "metadata": {
    "collapsed": true
   },
   "outputs": [],
   "source": [
    "df = pd.DataFrame(data, columns=['arm', 'score', 'time'])"
   ]
  },
  {
   "cell_type": "code",
   "execution_count": 542,
   "metadata": {
    "collapsed": true
   },
   "outputs": [],
   "source": [
    "agg = df.groupby(['arm', 'time']).agg([len, np.sum])['score'].reset_index()"
   ]
  },
  {
   "cell_type": "code",
   "execution_count": 543,
   "metadata": {
    "collapsed": false
   },
   "outputs": [
    {
     "name": "stdout",
     "output_type": "stream",
     "text": [
      "arm\n",
      "0    498.0\n",
      "1    502.0\n",
      "dtype: float64\n"
     ]
    }
   ],
   "source": [
    "total_numbers=agg.pivot('time', 'arm')['len'].fillna(0).cumsum()\n",
    "arms_trials=total_numbers.max()\n",
    "print(arms_trials)"
   ]
  },
  {
   "cell_type": "code",
   "execution_count": 544,
   "metadata": {
    "collapsed": false
   },
   "outputs": [
    {
     "name": "stdout",
     "output_type": "stream",
     "text": [
      "arm\n",
      "0    50.0\n",
      "1    38.0\n",
      "dtype: float64\n"
     ]
    }
   ],
   "source": [
    "total_success=agg.pivot('time', 'arm')['sum'].fillna(0).cumsum() #the 1s\n",
    "\n",
    "arms_success=total_success.max()\n",
    "print(arms_success)\n",
    "#beta_c=len(agg[agg.arm==0])-alpha_c"
   ]
  },
  {
   "cell_type": "code",
   "execution_count": 545,
   "metadata": {
    "collapsed": false
   },
   "outputs": [
    {
     "name": "stdout",
     "output_type": "stream",
     "text": [
      "arm\n",
      "0    448.0\n",
      "1    464.0\n",
      "dtype: float64\n"
     ]
    }
   ],
   "source": [
    "arms_failures=arms_trials - arms_success\n",
    "print(arms_failures)"
   ]
  },
  {
   "cell_type": "code",
   "execution_count": 546,
   "metadata": {
    "collapsed": false
   },
   "outputs": [
    {
     "data": {
      "text/plain": [
       "<matplotlib.legend.Legend at 0x122267ac8>"
      ]
     },
     "execution_count": 546,
     "metadata": {},
     "output_type": "execute_result"
    },
    {
     "data": {
      "image/png": "[encoded data removed]",
      "text/plain": [
       "<matplotlib.figure.Figure at 0x122171860>"
      ]
     },
     "metadata": {},
     "output_type": "display_data"
    }
   ],
   "source": [
    "x = np.linspace(0, 0.3, 100)\n",
    "#arm1\n",
    "plt.plot(x, beta(arms_success[0],arms_failures[0]).pdf(x), lw=2,label='arm 1')\n",
    "#arm2\n",
    "plt.plot(x, beta(arms_success[1],arms_failures[1]).pdf(x), lw=2, label='arm 2')\n",
    "plt.legend()"
   ]
  },
  {
   "cell_type": "code",
   "execution_count": 547,
   "metadata": {
    "collapsed": false
   },
   "outputs": [
    {
     "data": {
      "text/plain": [
       "<matplotlib.axes._subplots.AxesSubplot at 0x1224ba6d8>"
      ]
     },
     "execution_count": 547,
     "metadata": {},
     "output_type": "execute_result"
    },
    {
     "data": {
      "image/png": "[encoded data removed]",
      "text/plain": [
       "<matplotlib.figure.Figure at 0x11eb96438>"
      ]
     },
     "metadata": {},
     "output_type": "display_data"
    }
   ],
   "source": [
    "pltr = agg.pivot('time', 'arm')['sum'].fillna(0).cumsum()\n",
    "pltr.plot(figsize=(10, 2), title = \"Accumulated winning per arm\")"
   ]
  },
  {
   "cell_type": "code",
   "execution_count": 548,
   "metadata": {
    "collapsed": false
   },
   "outputs": [
    {
     "data": {
      "image/png": "[encoded data removed]",
      "text/plain": [
       "<matplotlib.figure.Figure at 0x12270a9e8>"
      ]
     },
     "metadata": {},
     "output_type": "display_data"
    }
   ],
   "source": [
    "pltr = (pltr / agg.pivot('time', 'arm')['len'].fillna(0).cumsum())\n",
    "_ = pltr.plot(figsize=(10, 2), title=\"Win probability per arm over time.\")"
   ]
  },
  {
   "cell_type": "code",
   "execution_count": 549,
   "metadata": {
    "collapsed": false
   },
   "outputs": [
    {
     "name": "stdout",
     "output_type": "stream",
     "text": [
      "total profit is 50.0\n",
      "total regret is 50.0\n"
     ]
    }
   ],
   "source": [
    "total_profit = agg.pivot('time', 'arm')['sum'].cumsum().sum(axis = 1).max()\n",
    "max_expected_profit = np.max(probs)*n\n",
    "print(\"total profit is {}\".format(total_profit))\n",
    "print(\"total regret is {}\".format(max_expected_profit - total_profit))"
   ]
  },
  {
   "cell_type": "code",
   "execution_count": 50,
   "metadata": {
    "collapsed": true
   },
   "outputs": [],
   "source": [
    "#original solution"
   ]
  },
  {
   "cell_type": "code",
   "execution_count": 550,
   "metadata": {
    "collapsed": true
   },
   "outputs": [],
   "source": [
    "def pick_arm(counter, epsilon=0.05):\n",
    "    if np.random.uniform() < epsilon:\n",
    "        probs = [1.0 for _ in counter.keys()]\n",
    "    else:\n",
    "        probs = [(counter[_][0] + 0.001)/counter[_][1] for _ in counter.keys()]\n",
    "    return np.random.choice(list(range(len(counter.keys()))), p = probs/np.sum(probs))"
   ]
  },
  {
   "cell_type": "code",
   "execution_count": 551,
   "metadata": {
    "collapsed": false
   },
   "outputs": [],
   "source": [
    "probs = [0.1, 0.05]\n",
    "n = 1000\n",
    "bandit = Bandit(probs)\n",
    "counter = {arm:(1,1) for arm in range(len(probs))}\n",
    "\n",
    "data = []\n",
    "for _ in range(n):\n",
    "    arm = pick_arm(counter, 1/(_+1))\n",
    "    outcome = bandit.pull_arm(arm)\n",
    "    counter[arm] = counter[arm][0] + outcome, counter[arm][1] + 1\n",
    "    data.append([arm, bandit.pull_arm(arm), _])\n"
   ]
  },
  {
   "cell_type": "code",
   "execution_count": 552,
   "metadata": {
    "collapsed": false
   },
   "outputs": [
    {
     "data": {
      "text/plain": [
       "{0: (61, 596), 1: (21, 406)}"
      ]
     },
     "execution_count": 552,
     "metadata": {},
     "output_type": "execute_result"
    }
   ],
   "source": [
    "counter"
   ]
  },
  {
   "cell_type": "code",
   "execution_count": 553,
   "metadata": {
    "collapsed": true
   },
   "outputs": [],
   "source": [
    "df = pd.DataFrame(data, columns=['arm', 'score', 'time'])\n",
    "agg = df.groupby(['arm', 'time']).agg([len, np.sum])['score'].reset_index()"
   ]
  },
  {
   "cell_type": "code",
   "execution_count": 554,
   "metadata": {
    "collapsed": false
   },
   "outputs": [
    {
     "data": {
      "image/png": "[encoded data removed]",
      "text/plain": [
       "<matplotlib.figure.Figure at 0x122185c18>"
      ]
     },
     "metadata": {},
     "output_type": "display_data"
    }
   ],
   "source": [
    "pltr = agg.pivot('time', 'arm')['sum'].fillna(0).cumsum()\n",
    "_ = pltr.plot(figsize=(10, 2), title = \"Accumulated winning per arm\")"
   ]
  },
  {
   "cell_type": "code",
   "execution_count": 555,
   "metadata": {
    "collapsed": false
   },
   "outputs": [
    {
     "data": {
      "image/png": "[encoded data removed]",
      "text/plain": [
       "<matplotlib.figure.Figure at 0x122985c18>"
      ]
     },
     "metadata": {},
     "output_type": "display_data"
    }
   ],
   "source": [
    "pltr = (pltr / agg.pivot('time', 'arm')['len'].fillna(0).cumsum())\n",
    "_ = pltr.plot(figsize=(10, 2), title=\"Win probability per arm over time.\")"
   ]
  },
  {
   "cell_type": "code",
   "execution_count": 556,
   "metadata": {
    "collapsed": false
   },
   "outputs": [
    {
     "name": "stdout",
     "output_type": "stream",
     "text": [
      "total profit is 57.0\n",
      "total regret is 43.0\n"
     ]
    }
   ],
   "source": [
    "total_profit = agg.pivot('time', 'arm')['sum'].cumsum().sum(axis = 1).max()\n",
    "max_expected_profit = np.max(probs)*n\n",
    "print(\"total profit is {}\".format(total_profit))\n",
    "print(\"total regret is {}\".format(max_expected_profit - total_profit))"
   ]
  },
  {
   "cell_type": "markdown",
   "metadata": {},
   "source": [
    "***Alternate solution (simple beta probabilities) - using belief ***"
   ]
  },
  {
   "cell_type": "code",
   "execution_count": 557,
   "metadata": {
    "collapsed": true
   },
   "outputs": [],
   "source": [
    "probs = [0.1, 0.05,0.08]\n",
    "n = 1000\n",
    "bandit = Bandit(probs)\n",
    "\n",
    "data = [] \n",
    "for _ in range(n):\n",
    "    arm = np.random.choice(list(range(len(probs))))\n",
    "    data.append([arm, bandit.pull_arm(arm), _])"
   ]
  },
  {
   "cell_type": "code",
   "execution_count": 558,
   "metadata": {
    "collapsed": true
   },
   "outputs": [],
   "source": [
    "df = pd.DataFrame(data, columns=['arm', 'score', 'time'])"
   ]
  },
  {
   "cell_type": "code",
   "execution_count": 559,
   "metadata": {
    "collapsed": false
   },
   "outputs": [
    {
     "data": {
      "text/html": [
       "<div>\n",
       "<table border=\"1\" class=\"dataframe\">\n",
       "  <thead>\n",
       "    <tr style=\"text-align: right;\">\n",
       "      <th></th>\n",
       "      <th>arm</th>\n",
       "      <th>score</th>\n",
       "      <th>time</th>\n",
       "    </tr>\n",
       "  </thead>\n",
       "  <tbody>\n",
       "    <tr>\n",
       "      <th>0</th>\n",
       "      <td>2</td>\n",
       "      <td>0</td>\n",
       "      <td>0</td>\n",
       "    </tr>\n",
       "    <tr>\n",
       "      <th>1</th>\n",
       "      <td>2</td>\n",
       "      <td>0</td>\n",
       "      <td>1</td>\n",
       "    </tr>\n",
       "    <tr>\n",
       "      <th>2</th>\n",
       "      <td>1</td>\n",
       "      <td>0</td>\n",
       "      <td>2</td>\n",
       "    </tr>\n",
       "    <tr>\n",
       "      <th>3</th>\n",
       "      <td>0</td>\n",
       "      <td>0</td>\n",
       "      <td>3</td>\n",
       "    </tr>\n",
       "    <tr>\n",
       "      <th>4</th>\n",
       "      <td>0</td>\n",
       "      <td>0</td>\n",
       "      <td>4</td>\n",
       "    </tr>\n",
       "  </tbody>\n",
       "</table>\n",
       "</div>"
      ],
      "text/plain": [
       "   arm  score  time\n",
       "0    2      0     0\n",
       "1    2      0     1\n",
       "2    1      0     2\n",
       "3    0      0     3\n",
       "4    0      0     4"
      ]
     },
     "execution_count": 559,
     "metadata": {},
     "output_type": "execute_result"
    }
   ],
   "source": [
    "df.head()"
   ]
  },
  {
   "cell_type": "code",
   "execution_count": 560,
   "metadata": {
    "collapsed": true
   },
   "outputs": [],
   "source": [
    "agg = df.groupby(['arm', 'time']).agg([len, np.sum])['score'].reset_index()"
   ]
  },
  {
   "cell_type": "code",
   "execution_count": 561,
   "metadata": {
    "collapsed": false
   },
   "outputs": [
    {
     "data": {
      "text/html": [
       "<div>\n",
       "<table border=\"1\" class=\"dataframe\">\n",
       "  <thead>\n",
       "    <tr style=\"text-align: right;\">\n",
       "      <th></th>\n",
       "      <th>arm</th>\n",
       "      <th>time</th>\n",
       "      <th>len</th>\n",
       "      <th>sum</th>\n",
       "    </tr>\n",
       "  </thead>\n",
       "  <tbody>\n",
       "    <tr>\n",
       "      <th>0</th>\n",
       "      <td>0</td>\n",
       "      <td>3</td>\n",
       "      <td>1</td>\n",
       "      <td>0</td>\n",
       "    </tr>\n",
       "    <tr>\n",
       "      <th>1</th>\n",
       "      <td>0</td>\n",
       "      <td>4</td>\n",
       "      <td>1</td>\n",
       "      <td>0</td>\n",
       "    </tr>\n",
       "    <tr>\n",
       "      <th>2</th>\n",
       "      <td>0</td>\n",
       "      <td>10</td>\n",
       "      <td>1</td>\n",
       "      <td>0</td>\n",
       "    </tr>\n",
       "    <tr>\n",
       "      <th>3</th>\n",
       "      <td>0</td>\n",
       "      <td>11</td>\n",
       "      <td>1</td>\n",
       "      <td>0</td>\n",
       "    </tr>\n",
       "    <tr>\n",
       "      <th>4</th>\n",
       "      <td>0</td>\n",
       "      <td>12</td>\n",
       "      <td>1</td>\n",
       "      <td>0</td>\n",
       "    </tr>\n",
       "  </tbody>\n",
       "</table>\n",
       "</div>"
      ],
      "text/plain": [
       "   arm  time  len  sum\n",
       "0    0     3    1    0\n",
       "1    0     4    1    0\n",
       "2    0    10    1    0\n",
       "3    0    11    1    0\n",
       "4    0    12    1    0"
      ]
     },
     "execution_count": 561,
     "metadata": {},
     "output_type": "execute_result"
    }
   ],
   "source": [
    "agg.head()"
   ]
  },
  {
   "cell_type": "code",
   "execution_count": 562,
   "metadata": {
    "collapsed": false
   },
   "outputs": [
    {
     "name": "stdout",
     "output_type": "stream",
     "text": [
      "arm\n",
      "0    301.0\n",
      "1    370.0\n",
      "2    329.0\n",
      "dtype: float64\n"
     ]
    }
   ],
   "source": [
    "total_numbers=agg.pivot('time', 'arm')['len'].fillna(0).cumsum()\n",
    "arms_trials=total_numbers.max()\n",
    "print(arms_trials)"
   ]
  },
  {
   "cell_type": "code",
   "execution_count": 563,
   "metadata": {
    "collapsed": false
   },
   "outputs": [
    {
     "name": "stdout",
     "output_type": "stream",
     "text": [
      "arm\n",
      "0    36.0\n",
      "1    22.0\n",
      "2    16.0\n",
      "dtype: float64\n"
     ]
    }
   ],
   "source": [
    "total_success=agg.pivot('time', 'arm')['sum'].fillna(0).cumsum() #the 1s\n",
    "\n",
    "arms_success=total_success.max()\n",
    "print(arms_success)\n",
    "#beta_c=len(agg[agg.arm==0])-alpha_c"
   ]
  },
  {
   "cell_type": "code",
   "execution_count": 564,
   "metadata": {
    "collapsed": false,
    "scrolled": true
   },
   "outputs": [
    {
     "name": "stdout",
     "output_type": "stream",
     "text": [
      "arm\n",
      "0    265.0\n",
      "1    348.0\n",
      "2    313.0\n",
      "dtype: float64\n"
     ]
    }
   ],
   "source": [
    "arms_failures=arms_trials - arms_success\n",
    "print(arms_failures)"
   ]
  },
  {
   "cell_type": "code",
   "execution_count": 565,
   "metadata": {
    "collapsed": false
   },
   "outputs": [
    {
     "data": {
      "text/plain": [
       "<matplotlib.legend.Legend at 0x122b54cc0>"
      ]
     },
     "execution_count": 565,
     "metadata": {},
     "output_type": "execute_result"
    },
    {
     "data": {
      "image/png": "[encoded data removed]",
      "text/plain": [
       "<matplotlib.figure.Figure at 0x122940048>"
      ]
     },
     "metadata": {},
     "output_type": "display_data"
    }
   ],
   "source": [
    "x = np.linspace(0, 0.2, 1000)\n",
    "#arm1\n",
    "plt.plot(x, beta(arms_success[0],arms_failures[0]).pdf(x), lw=2,label='arm 0')\n",
    "#arm2\n",
    "plt.plot(x, beta(arms_success[1],arms_failures[1]).pdf(x), lw=2, label='arm 1')\n",
    "plt.plot(x, beta(arms_success[2],arms_failures[2]).pdf(x), lw=2, label='arm 2')\n",
    "plt.legend()"
   ]
  },
  {
   "cell_type": "code",
   "execution_count": 579,
   "metadata": {
    "collapsed": false
   },
   "outputs": [
    {
     "data": {
      "text/plain": [
       "3"
      ]
     },
     "execution_count": 579,
     "metadata": {},
     "output_type": "execute_result"
    }
   ],
   "source": [
    "counter={0:(arms_success[0],arms_success[0]+arms_failures[0]),1:(arms_success[1],arms_success[1]+arms_failures[1]),\n",
    "        2:(arms_success[2],arms_success[2]+arms_failures[2])}\n",
    "len(counter)"
   ]
  },
  {
   "cell_type": "code",
   "execution_count": 645,
   "metadata": {
    "collapsed": false
   },
   "outputs": [],
   "source": [
    "def convergence_decision_max_vs_min(counter):\n",
    "    arm_betas=[]\n",
    "    arm_means=[]\n",
    "    x=np.linspace(0, 1, 1000)\n",
    "\n",
    "    for key in counter.keys():\n",
    "        current_arm = counter[key]\n",
    "\n",
    "        arm_betas= arm_betas + [beta(current_arm[0],current_arm[1]-current_arm[0]).pdf(x)]\n",
    "\n",
    "        arm_means.append(current_arm[0]/current_arm[1])\n",
    "\n",
    "    arm_max_index = np.argmax(arm_means)\n",
    "    arm_min_index = np.argmin(arm_means)\n",
    "    arm_max = list(counter.keys())[arm_max_index]\n",
    "    arm_min = list(counter.keys())[arm_min_index]\n",
    "\n",
    "    mle_delta = arm_betas[arm_max_index]-arm_betas[arm_min_index]\n",
    "\n",
    "    inflection_plus = np.where(mle_delta>0)\n",
    "    inflection_minus = np.where(mle_delta<0)\n",
    "    \n",
    "    start_point_calc=0\n",
    "    \n",
    "    if((len(inflection_plus)>0)&(len(inflection_plus[0])>0)):\n",
    "        start_point_calc=inflection_plus[0][0]\n",
    "    \n",
    "    if((len(inflection_minus)>0)&(len(inflection_minus[0])>0)):\n",
    "        if(sum(inflection_plus[0]> max(inflection_minus[0]))>0):\n",
    "            start_point_calc=inflection_plus[0][inflection_plus[0]> max(inflection_minus[0])][0]\n",
    "        \n",
    "    \n",
    "    selected_x=x[start_point_calc:]\n",
    "    selected_mle_delta = mle_delta[start_point_calc:]\n",
    "    \n",
    "    integral = trapz(selected_mle_delta,selected_x)\n",
    "    return {'arm_max': arm_max, 'integral_max': integral,'arm_min':arm_min,'arm_max_means':arm_means[arm_max_index]}\n"
   ]
  },
  {
   "cell_type": "code",
   "execution_count": 646,
   "metadata": {
    "collapsed": false
   },
   "outputs": [
    {
     "data": {
      "text/plain": [
       "{0: (1, 1), 1: (1, 1), 2: (1, 1)}"
      ]
     },
     "execution_count": 646,
     "metadata": {},
     "output_type": "execute_result"
    }
   ],
   "source": [
    "counter"
   ]
  },
  {
   "cell_type": "code",
   "execution_count": 651,
   "metadata": {
    "collapsed": false
   },
   "outputs": [
    {
     "name": "stdout",
     "output_type": "stream",
     "text": [
      "{'arm_min': 0, 'integral_max': nan, 'arm_max': 0, 'arm_max_means': 1.0}\n"
     ]
    },
    {
     "data": {
      "text/plain": [
       "False"
      ]
     },
     "execution_count": 651,
     "metadata": {},
     "output_type": "execute_result"
    }
   ],
   "source": [
    "test_counter={0:(36,301),1:(22,370),2:(16,329)}\n",
    "convergence=convergence_decision_max_vs_min(counter)\n",
    "print(convergence)\n",
    "probs=[(1-convergence.get('integral_max'))/float(len(counter)-1) for _ in counter.keys()]\n",
    "probs[convergence.get('arm_max')]=convergence.get('integral_max')\n",
    "sum(probs)\n",
    "#probs[(convergence.get('arm_max')+1):]\n",
    "#probs\n",
    "sum([counter.get(x)[1] for x in counter.keys()])\n",
    "convergence.get('integral_max')>0.7"
   ]
  },
  {
   "cell_type": "code",
   "execution_count": 649,
   "metadata": {
    "collapsed": false
   },
   "outputs": [
    {
     "data": {
      "text/plain": [
       "<matplotlib.legend.Legend at 0x123d96860>"
      ]
     },
     "execution_count": 649,
     "metadata": {},
     "output_type": "execute_result"
    },
    {
     "data": {
      "image/png": "[encoded data removed]",
      "text/plain": [
       "<matplotlib.figure.Figure at 0x123acc9b0>"
      ]
     },
     "metadata": {},
     "output_type": "display_data"
    }
   ],
   "source": [
    "x = np.linspace(0, 0.3, 100)\n",
    "#arm1\n",
    "plt.plot(x, beta(36,301).pdf(x), lw=2,label='arm 0')\n",
    "#arm2\n",
    "plt.plot(x, beta(22,370).pdf(x), lw=2, label='arm 1')\n",
    "plt.plot(x, beta(16,329).pdf(x), lw=2, label='arm 2')\n",
    "plt.legend()"
   ]
  },
  {
   "cell_type": "code",
   "execution_count": 658,
   "metadata": {
    "collapsed": true
   },
   "outputs": [],
   "source": [
    "def pick_arm2(counter,accumulated_threshold, delta_prob_threshold,epsilon=0.05):\n",
    "    \n",
    "\n",
    "    if np.random.uniform() < epsilon:\n",
    "        probs = [1.0 for _ in counter.keys()]            \n",
    "    else:\n",
    "        probs = [(counter[_][0] + 0.001)/counter[_][1] for _ in counter.keys()]\n",
    "\n",
    "    probs=probs/np.sum(probs)\n",
    "    \n",
    "    if(sum([counter.get(x)[1] for x in counter.keys()])>accumulated_threshold):\n",
    "        #if(sum([counter.get(x)[1] for x in counter.keys()]%50==0)):\n",
    "        convergence= convergence_decision_max_vs_min(counter=counter)\n",
    "            \n",
    "        if((convergence.get('integral_max')>delta_prob_threshold)):\n",
    "            probs=[(1-convergence.get('integral_max'))/float(len(counter)-1) for _ in counter.keys()]\n",
    "            probs[convergence.get('arm_max')]=convergence.get('integral_max')\n",
    "            \n",
    "       \n",
    "        \n",
    "    #print(probs)        \n",
    "    return np.random.choice(list(range(len(counter.keys()))), p = probs)"
   ]
  },
  {
   "cell_type": "code",
   "execution_count": 683,
   "metadata": {
    "collapsed": false
   },
   "outputs": [],
   "source": [
    "probs = [0.1, 0.05,0.08]\n",
    "n = 1000\n",
    "bandit = Bandit(probs)\n",
    "counter = {arm:(1,1) for arm in range(len(probs))}\n",
    "\n",
    "data = []\n",
    "for _ in range(n):\n",
    "    arm = pick_arm2(counter,200,0.8, 1/(_+1))\n",
    "    outcome = bandit.pull_arm(arm)\n",
    "  \n",
    "    counter[arm] = counter[arm][0] + outcome, counter[arm][1] + 1\n",
    "    data.append([arm, bandit.pull_arm(arm), _])"
   ]
  },
  {
   "cell_type": "code",
   "execution_count": 684,
   "metadata": {
    "collapsed": true
   },
   "outputs": [],
   "source": [
    "df = pd.DataFrame(data, columns=['arm', 'score', 'time'])"
   ]
  },
  {
   "cell_type": "code",
   "execution_count": 685,
   "metadata": {
    "collapsed": true
   },
   "outputs": [],
   "source": [
    "agg = df.groupby(['arm', 'time']).agg([len, np.sum])['score'].reset_index()"
   ]
  },
  {
   "cell_type": "code",
   "execution_count": 686,
   "metadata": {
    "collapsed": false
   },
   "outputs": [
    {
     "data": {
      "image/png": "[encoded data removed]",
      "text/plain": [
       "<matplotlib.figure.Figure at 0x123f64b38>"
      ]
     },
     "metadata": {},
     "output_type": "display_data"
    }
   ],
   "source": [
    "pltr = agg.pivot('time', 'arm')['sum'].fillna(0).cumsum()\n",
    "_ = pltr.plot(figsize=(10, 2), title = \"Accumulated winning per arm\")"
   ]
  },
  {
   "cell_type": "code",
   "execution_count": 687,
   "metadata": {
    "collapsed": false
   },
   "outputs": [
    {
     "data": {
      "image/png": "[encoded data removed]",
      "text/plain": [
       "<matplotlib.figure.Figure at 0x1245ea710>"
      ]
     },
     "metadata": {},
     "output_type": "display_data"
    }
   ],
   "source": [
    "pltr = (pltr / agg.pivot('time', 'arm')['len'].fillna(0).cumsum())\n",
    "_ = pltr.plot(figsize=(10, 2), title=\"Win probability per arm over time.\")"
   ]
  },
  {
   "cell_type": "code",
   "execution_count": 688,
   "metadata": {
    "collapsed": false
   },
   "outputs": [
    {
     "name": "stdout",
     "output_type": "stream",
     "text": [
      "total profit is 73.0\n",
      "total regret is 27.0\n"
     ]
    }
   ],
   "source": [
    "total_profit = agg.pivot('time', 'arm')['sum'].cumsum().sum(axis = 1).max()\n",
    "max_expected_profit = np.max(probs)*n\n",
    "print(\"total profit is {}\".format(total_profit))\n",
    "print(\"total regret is {}\".format(max_expected_profit - total_profit))"
   ]
  },
  {
   "cell_type": "code",
   "execution_count": null,
   "metadata": {
    "collapsed": true
   },
   "outputs": [],
   "source": []
  }
 ],
 "metadata": {
  "kernelspec": {
   "display_name": "Python 3",
   "language": "python",
   "name": "python3"
  },
  "language_info": {
   "codemirror_mode": {
    "name": "ipython",
    "version": 3
   },
   "file_extension": ".py",
   "mimetype": "text/x-python",
   "name": "python",
   "nbconvert_exporter": "python",
   "pygments_lexer": "ipython3",
   "version": "3.5.2"
  }
 },
 "nbformat": 4,
 "nbformat_minor": 0
}
